{
 "cells": [
  {
   "cell_type": "code",
   "execution_count": 6,
   "metadata": {},
   "outputs": [],
   "source": [
    "import pandas as pd\n",
    "import os\n",
    "import json\n",
    "from ast import literal_eval"
   ]
  },
  {
   "cell_type": "code",
   "execution_count": 2,
   "metadata": {},
   "outputs": [],
   "source": [
    "train_path = 'data/train/train.jsonl'"
   ]
  },
  {
   "cell_type": "code",
   "execution_count": 43,
   "metadata": {},
   "outputs": [],
   "source": [
    "train_rows = []\n",
    "for line in open(train_path):\n",
    "    d = literal_eval(line.strip())    \n",
    "    i = 1\n",
    "    for k,v in d['answers']['raw'].items():\n",
    "        row = {}\n",
    "        row['id']=d['metadata']['id']\n",
    "        row['source']=d['metadata']['source']\n",
    "        row['q-original']=d['question']['original']\n",
    "        row['q-normalized']=d['question']['normalized']\n",
    "        row[f'answer-value']=k\n",
    "        row[f'answer-score']=v\n",
    "        train_rows.append(row)\n",
    "        i+=1"
   ]
  },
  {
   "cell_type": "code",
   "execution_count": 44,
   "metadata": {},
   "outputs": [
    {
     "data": {
      "text/plain": [
       "45027"
      ]
     },
     "execution_count": 44,
     "metadata": {},
     "output_type": "execute_result"
    }
   ],
   "source": [
    "len(train_rows)"
   ]
  },
  {
   "cell_type": "code",
   "execution_count": 45,
   "metadata": {},
   "outputs": [
    {
     "data": {
      "text/plain": [
       "[{'id': 'train_q0',\n",
       "  'source': 'https://www.familyfeudinfo.com',\n",
       "  'q-original': 'At The Beach, Name Something That Might Protect You From Sun. ',\n",
       "  'q-normalized': 'at the beach, name something that might protect you from sun.',\n",
       "  'answer-value': 'umbrella',\n",
       "  'answer-score': 38},\n",
       " {'id': 'train_q0',\n",
       "  'source': 'https://www.familyfeudinfo.com',\n",
       "  'q-original': 'At The Beach, Name Something That Might Protect You From Sun. ',\n",
       "  'q-normalized': 'at the beach, name something that might protect you from sun.',\n",
       "  'answer-value': 'sunscreen',\n",
       "  'answer-score': 36},\n",
       " {'id': 'train_q0',\n",
       "  'source': 'https://www.familyfeudinfo.com',\n",
       "  'q-original': 'At The Beach, Name Something That Might Protect You From Sun. ',\n",
       "  'q-normalized': 'at the beach, name something that might protect you from sun.',\n",
       "  'answer-value': 'sun hat',\n",
       "  'answer-score': 14}]"
      ]
     },
     "execution_count": 45,
     "metadata": {},
     "output_type": "execute_result"
    }
   ],
   "source": [
    "train_rows[:3]"
   ]
  },
  {
   "cell_type": "code",
   "execution_count": 46,
   "metadata": {},
   "outputs": [],
   "source": [
    "traindf = pd.DataFrame(train_rows)"
   ]
  },
  {
   "cell_type": "code",
   "execution_count": 47,
   "metadata": {},
   "outputs": [
    {
     "data": {
      "text/html": [
       "<div>\n",
       "<style scoped>\n",
       "    .dataframe tbody tr th:only-of-type {\n",
       "        vertical-align: middle;\n",
       "    }\n",
       "\n",
       "    .dataframe tbody tr th {\n",
       "        vertical-align: top;\n",
       "    }\n",
       "\n",
       "    .dataframe thead th {\n",
       "        text-align: right;\n",
       "    }\n",
       "</style>\n",
       "<table border=\"1\" class=\"dataframe\">\n",
       "  <thead>\n",
       "    <tr style=\"text-align: right;\">\n",
       "      <th></th>\n",
       "      <th>id</th>\n",
       "      <th>source</th>\n",
       "      <th>q-original</th>\n",
       "      <th>q-normalized</th>\n",
       "      <th>answer-value</th>\n",
       "      <th>answer-score</th>\n",
       "    </tr>\n",
       "  </thead>\n",
       "  <tbody>\n",
       "    <tr>\n",
       "      <th>0</th>\n",
       "      <td>train_q0</td>\n",
       "      <td>https://www.familyfeudinfo.com</td>\n",
       "      <td>At The Beach, Name Something That Might Protec...</td>\n",
       "      <td>at the beach, name something that might protec...</td>\n",
       "      <td>umbrella</td>\n",
       "      <td>38</td>\n",
       "    </tr>\n",
       "    <tr>\n",
       "      <th>1</th>\n",
       "      <td>train_q0</td>\n",
       "      <td>https://www.familyfeudinfo.com</td>\n",
       "      <td>At The Beach, Name Something That Might Protec...</td>\n",
       "      <td>at the beach, name something that might protec...</td>\n",
       "      <td>sunscreen</td>\n",
       "      <td>36</td>\n",
       "    </tr>\n",
       "    <tr>\n",
       "      <th>2</th>\n",
       "      <td>train_q0</td>\n",
       "      <td>https://www.familyfeudinfo.com</td>\n",
       "      <td>At The Beach, Name Something That Might Protec...</td>\n",
       "      <td>at the beach, name something that might protec...</td>\n",
       "      <td>sun hat</td>\n",
       "      <td>14</td>\n",
       "    </tr>\n",
       "    <tr>\n",
       "      <th>3</th>\n",
       "      <td>train_q0</td>\n",
       "      <td>https://www.familyfeudinfo.com</td>\n",
       "      <td>At The Beach, Name Something That Might Protec...</td>\n",
       "      <td>at the beach, name something that might protec...</td>\n",
       "      <td>sunglasses</td>\n",
       "      <td>5</td>\n",
       "    </tr>\n",
       "    <tr>\n",
       "      <th>4</th>\n",
       "      <td>train_q0</td>\n",
       "      <td>https://www.familyfeudinfo.com</td>\n",
       "      <td>At The Beach, Name Something That Might Protec...</td>\n",
       "      <td>at the beach, name something that might protec...</td>\n",
       "      <td>cover up</td>\n",
       "      <td>3</td>\n",
       "    </tr>\n",
       "    <tr>\n",
       "      <th>...</th>\n",
       "      <td>...</td>\n",
       "      <td>...</td>\n",
       "      <td>...</td>\n",
       "      <td>...</td>\n",
       "      <td>...</td>\n",
       "      <td>...</td>\n",
       "    </tr>\n",
       "    <tr>\n",
       "      <th>45022</th>\n",
       "      <td>train_q9911</td>\n",
       "      <td>https://www.familyfeudinfo.com</td>\n",
       "      <td>Which cartoon character would you least like t...</td>\n",
       "      <td>which cartoon character would you least like t...</td>\n",
       "      <td>spongebob</td>\n",
       "      <td>15</td>\n",
       "    </tr>\n",
       "    <tr>\n",
       "      <th>45023</th>\n",
       "      <td>train_q9911</td>\n",
       "      <td>https://www.familyfeudinfo.com</td>\n",
       "      <td>Which cartoon character would you least like t...</td>\n",
       "      <td>which cartoon character would you least like t...</td>\n",
       "      <td>roadrunner</td>\n",
       "      <td>11</td>\n",
       "    </tr>\n",
       "    <tr>\n",
       "      <th>45024</th>\n",
       "      <td>train_q9911</td>\n",
       "      <td>https://www.familyfeudinfo.com</td>\n",
       "      <td>Which cartoon character would you least like t...</td>\n",
       "      <td>which cartoon character would you least like t...</td>\n",
       "      <td>yosemite sam</td>\n",
       "      <td>8</td>\n",
       "    </tr>\n",
       "    <tr>\n",
       "      <th>45025</th>\n",
       "      <td>train_q9911</td>\n",
       "      <td>https://www.familyfeudinfo.com</td>\n",
       "      <td>Which cartoon character would you least like t...</td>\n",
       "      <td>which cartoon character would you least like t...</td>\n",
       "      <td>bugs bunny</td>\n",
       "      <td>7</td>\n",
       "    </tr>\n",
       "    <tr>\n",
       "      <th>45026</th>\n",
       "      <td>train_q9911</td>\n",
       "      <td>https://www.familyfeudinfo.com</td>\n",
       "      <td>Which cartoon character would you least like t...</td>\n",
       "      <td>which cartoon character would you least like t...</td>\n",
       "      <td>homer simpson</td>\n",
       "      <td>7</td>\n",
       "    </tr>\n",
       "  </tbody>\n",
       "</table>\n",
       "<p>45027 rows × 6 columns</p>\n",
       "</div>"
      ],
      "text/plain": [
       "                id                          source  \\\n",
       "0         train_q0  https://www.familyfeudinfo.com   \n",
       "1         train_q0  https://www.familyfeudinfo.com   \n",
       "2         train_q0  https://www.familyfeudinfo.com   \n",
       "3         train_q0  https://www.familyfeudinfo.com   \n",
       "4         train_q0  https://www.familyfeudinfo.com   \n",
       "...            ...                             ...   \n",
       "45022  train_q9911  https://www.familyfeudinfo.com   \n",
       "45023  train_q9911  https://www.familyfeudinfo.com   \n",
       "45024  train_q9911  https://www.familyfeudinfo.com   \n",
       "45025  train_q9911  https://www.familyfeudinfo.com   \n",
       "45026  train_q9911  https://www.familyfeudinfo.com   \n",
       "\n",
       "                                              q-original  \\\n",
       "0      At The Beach, Name Something That Might Protec...   \n",
       "1      At The Beach, Name Something That Might Protec...   \n",
       "2      At The Beach, Name Something That Might Protec...   \n",
       "3      At The Beach, Name Something That Might Protec...   \n",
       "4      At The Beach, Name Something That Might Protec...   \n",
       "...                                                  ...   \n",
       "45022  Which cartoon character would you least like t...   \n",
       "45023  Which cartoon character would you least like t...   \n",
       "45024  Which cartoon character would you least like t...   \n",
       "45025  Which cartoon character would you least like t...   \n",
       "45026  Which cartoon character would you least like t...   \n",
       "\n",
       "                                            q-normalized   answer-value  \\\n",
       "0      at the beach, name something that might protec...       umbrella   \n",
       "1      at the beach, name something that might protec...      sunscreen   \n",
       "2      at the beach, name something that might protec...        sun hat   \n",
       "3      at the beach, name something that might protec...     sunglasses   \n",
       "4      at the beach, name something that might protec...       cover up   \n",
       "...                                                  ...            ...   \n",
       "45022  which cartoon character would you least like t...      spongebob   \n",
       "45023  which cartoon character would you least like t...     roadrunner   \n",
       "45024  which cartoon character would you least like t...   yosemite sam   \n",
       "45025  which cartoon character would you least like t...     bugs bunny   \n",
       "45026  which cartoon character would you least like t...  homer simpson   \n",
       "\n",
       "       answer-score  \n",
       "0                38  \n",
       "1                36  \n",
       "2                14  \n",
       "3                 5  \n",
       "4                 3  \n",
       "...             ...  \n",
       "45022            15  \n",
       "45023            11  \n",
       "45024             8  \n",
       "45025             7  \n",
       "45026             7  \n",
       "\n",
       "[45027 rows x 6 columns]"
      ]
     },
     "execution_count": 47,
     "metadata": {},
     "output_type": "execute_result"
    }
   ],
   "source": [
    "traindf"
   ]
  },
  {
   "cell_type": "code",
   "execution_count": 48,
   "metadata": {},
   "outputs": [],
   "source": [
    "traindf.to_csv('data/train.csv')"
   ]
  }
 ],
 "metadata": {
  "kernelspec": {
   "display_name": "Python 3",
   "language": "python",
   "name": "python3"
  },
  "language_info": {
   "codemirror_mode": {
    "name": "ipython",
    "version": 3
   },
   "file_extension": ".py",
   "mimetype": "text/x-python",
   "name": "python",
   "nbconvert_exporter": "python",
   "pygments_lexer": "ipython3",
   "version": "3.8.10"
  }
 },
 "nbformat": 4,
 "nbformat_minor": 4
}
